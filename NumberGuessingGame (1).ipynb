{
 "cells": [
  {
   "cell_type": "markdown",
   "id": "30d080c2",
   "metadata": {},
   "source": [
    "# Number Guessing Game"
   ]
  },
  {
   "cell_type": "code",
   "execution_count": 10,
   "id": "b336ae40",
   "metadata": {},
   "outputs": [
    {
     "name": "stdout",
     "output_type": "stream",
     "text": [
      "Enter the starting point of your range: 1\n",
      "Enter the end point of your range: 10\n",
      "guess a number between 1 and 10 :1\n",
      "Try Again! You guessed too small\n",
      "guess a number between 1 and 10 :5\n",
      "Try Again! You guessed too small\n",
      "guess a number between 1 and 10 :6\n",
      "congratulations! you won!\n"
     ]
    }
   ],
   "source": [
    "import random\n",
    "A=int(input(\"Enter the starting point of your range: \"))\n",
    "B=int(input(\"Enter the end point of your range: \"))\n",
    "num = random.randint(A,B)\n",
    "guess = None\n",
    "count=0\n",
    "\n",
    "while guess != num:\n",
    "    guess = input(\"guess a number between \"+ str(A) +\" and \" + str(B)+\" :\")\n",
    "    guess = int(guess)\n",
    "    if count>=7:\n",
    "        print(\"Better Luck Next Time!\")\n",
    "    elif guess == num:\n",
    "        print(\"congratulations! you won!\")\n",
    "        break\n",
    "    elif(guess>num):\n",
    "        print(\"Try Again!You guessed too High\")\n",
    "        break\n",
    "    elif(guess<num):\n",
    "        print(\"Try Again! You guessed too small\")\n",
    "    count=count+1"
   ]
  },
  {
   "cell_type": "code",
   "execution_count": null,
   "id": "24ac93e3",
   "metadata": {},
   "outputs": [],
   "source": []
  }
 ],
 "metadata": {
  "kernelspec": {
   "display_name": "Python 3 (ipykernel)",
   "language": "python",
   "name": "python3"
  },
  "language_info": {
   "codemirror_mode": {
    "name": "ipython",
    "version": 3
   },
   "file_extension": ".py",
   "mimetype": "text/x-python",
   "name": "python",
   "nbconvert_exporter": "python",
   "pygments_lexer": "ipython3",
   "version": "3.9.7"
  }
 },
 "nbformat": 4,
 "nbformat_minor": 5
}
